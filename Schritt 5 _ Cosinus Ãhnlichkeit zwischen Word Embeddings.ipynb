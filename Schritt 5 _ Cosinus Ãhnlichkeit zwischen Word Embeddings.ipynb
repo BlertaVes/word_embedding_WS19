{
 "cells": [
  {
   "cell_type": "code",
   "execution_count": 1,
   "metadata": {
    "collapsed": true
   },
   "outputs": [],
   "source": [
    "import pickle\n",
    "import time\n",
    "import numpy as np\n",
    "import pandas as pd\n",
    "from scipy.spatial.distance import cosine\n"
   ]
  },
  {
   "cell_type": "markdown",
   "metadata": {},
   "source": [
    "## Laden der Matrix"
   ]
  },
  {
   "cell_type": "code",
   "execution_count": 15,
   "metadata": {
    "collapsed": true
   },
   "outputs": [],
   "source": [
    "with open(\"matrix\\\\\"+\"tfidf_matrix_as_pandas_df.p\", 'rb') as handle:\n",
    "    tfidf_matrix = pickle.load(handle)\n",
    "    "
   ]
  },
  {
   "cell_type": "markdown",
   "metadata": {},
   "source": [
    "## Auswählen des \"Query\" Vektors"
   ]
  },
  {
   "cell_type": "code",
   "execution_count": 3,
   "metadata": {
    "scrolled": true
   },
   "outputs": [
    {
     "data": {
      "text/plain": [
       "stadt              13.304940\n",
       "of                 13.566494\n",
       "liegt              11.343780\n",
       "deutschen          13.202942\n",
       "gemeinde           12.378535\n",
       "mai                13.091963\n",
       "januar             12.760053\n",
       "august             13.202006\n",
       "märz               13.062364\n",
       "oktober            13.092276\n",
       "september          13.157298\n",
       "the                13.538306\n",
       "juni               13.133216\n",
       "april              13.017081\n",
       "juli               13.027546\n",
       "erhielt            12.647296\n",
       "dezember           13.002687\n",
       "november           13.218921\n",
       "deutschland        13.500845\n",
       "kirche             13.142053\n",
       "jahrhundert        12.740726\n",
       "mitglied           13.161340\n",
       "saison             13.258607\n",
       "februar            13.340266\n",
       "platz              13.538336\n",
       "ebenfalls          13.296137\n",
       "universität        13.533727\n",
       "befindet           12.077703\n",
       "stand              12.715634\n",
       "berlin             13.309391\n",
       "                     ...    \n",
       "profimannschaft    10.361774\n",
       "century             7.867030\n",
       "erbracht           11.670502\n",
       "infektion           8.671705\n",
       "ausdauernde         0.000000\n",
       "globale             0.000000\n",
       "stockwerk          10.695601\n",
       "wells              11.919099\n",
       "beachtet            8.671705\n",
       "zell               13.734837\n",
       "angesehenen        12.393676\n",
       "rinde               6.347801\n",
       "cameron            11.232528\n",
       "ästhetik            9.205021\n",
       "siena              13.477049\n",
       "reichlich          11.719708\n",
       "portugiesen        12.715914\n",
       "curtis              7.867030\n",
       "spalten             7.867030\n",
       "wanderwege         11.869469\n",
       "aufgefasst         11.337289\n",
       "europastraße       13.255561\n",
       "aufwändig          11.992647\n",
       "terrasse           11.775747\n",
       "potential          10.954414\n",
       "vorläufigen        12.320033\n",
       "foster             10.954414\n",
       "trump               9.761841\n",
       "another_token       6.675706\n",
       "padding_token      12.154185\n",
       "Name: stadt, Length: 10002, dtype: float64"
      ]
     },
     "execution_count": 3,
     "metadata": {},
     "output_type": "execute_result"
    }
   ],
   "source": [
    "stadt_vector = tfidf_matrix[\"stadt\"]\n",
    "stadt_vector"
   ]
  },
  {
   "cell_type": "markdown",
   "metadata": {},
   "source": [
    "## Abfrage der cosine similarity\n",
    "\n",
    "\n",
    "1. Schritt: Aus der Matrix alle Columns filtern, die nur aus 0 besteht, weil:\n",
    "    The cosine distance is not defined if one of the input vectors is all 0. scipy.spatial.distance.cosine returns nan in that case. Link: https://stackoverflow.com/questions/39231600/cosine-similarity-yields-nan-values-pt-ii\n",
    "\n",
    "2. Schritt: Mit der non-zero-columns Matrix die 10 nähsten Word-Vektoren zu dem Vektor \"stadt\" ausgeben lassen."
   ]
  },
  {
   "cell_type": "code",
   "execution_count": 4,
   "metadata": {},
   "outputs": [],
   "source": [
    "tfidf_without_zero_columns = tfidf_matrix.loc[:, (tfidf_matrix != 0).any(axis=0)]"
   ]
  },
  {
   "cell_type": "code",
   "execution_count": 5,
   "metadata": {
    "scrolled": true
   },
   "outputs": [
    {
     "name": "stdout",
     "output_type": "stream",
     "text": [
      "Cosine Similarity: Die nächsten Word Vektoren zu 'Stadt'. Dabei zeigt sich 'Stadt' am nächsten zu 'Stadt'.\n"
     ]
    },
    {
     "data": {
      "text/plain": [
       "stadt              1.000000\n",
       "of                 0.944413\n",
       "liegt              0.976674\n",
       "deutschen          0.984771\n",
       "gemeinde           0.963341\n",
       "mai                0.984183\n",
       "januar             0.982574\n",
       "august             0.983972\n",
       "märz               0.982716\n",
       "oktober            0.983746\n",
       "september          0.983002\n",
       "the                0.917129\n",
       "juni               0.982617\n",
       "april              0.983337\n",
       "juli               0.982996\n",
       "erhielt            0.983885\n",
       "dezember           0.983545\n",
       "november           0.982287\n",
       "deutschland        0.983117\n",
       "kirche             0.964177\n",
       "jahrhundert        0.974494\n",
       "mitglied           0.952251\n",
       "saison             0.872775\n",
       "februar            0.978824\n",
       "platz              0.967068\n",
       "ebenfalls          0.987371\n",
       "universität        0.947963\n",
       "befindet           0.970422\n",
       "stand              0.987148\n",
       "berlin             0.972875\n",
       "                     ...   \n",
       "radiosender        0.552072\n",
       "profimannschaft    0.406265\n",
       "century            0.492993\n",
       "erbracht           0.579554\n",
       "infektion          0.471741\n",
       "ausdauernde        0.257497\n",
       "globale            0.559537\n",
       "stockwerk          0.525286\n",
       "wells              0.559764\n",
       "beachtet           0.635355\n",
       "zell               0.525497\n",
       "angesehenen        0.599553\n",
       "rinde              0.416966\n",
       "cameron            0.553055\n",
       "ästhetik           0.563084\n",
       "siena              0.532734\n",
       "reichlich          0.587693\n",
       "portugiesen        0.558215\n",
       "curtis             0.549113\n",
       "spalten            0.532003\n",
       "wanderwege         0.462547\n",
       "aufgefasst         0.578662\n",
       "europastraße       0.370475\n",
       "aufwändig          0.579293\n",
       "terrasse           0.520210\n",
       "potential          0.579359\n",
       "vorläufigen        0.579523\n",
       "foster             0.553059\n",
       "trump              0.544264\n",
       "another_token      0.975520\n",
       "Length: 10001, dtype: float64"
      ]
     },
     "execution_count": 5,
     "metadata": {},
     "output_type": "execute_result"
    }
   ],
   "source": [
    "cosine_sim = tfidf_without_zero_columns.apply(lambda x: 1-cosine(stadt_vector,x),axis=0)\n",
    "\n",
    "print(\"Cosine Similarity: Die nächsten Word Vektoren zu 'Stadt'. Dabei zeigt sich 'Stadt' am nächsten zu 'Stadt'.\")\n",
    "cosine_sim "
   ]
  },
  {
   "cell_type": "markdown",
   "metadata": {},
   "source": [
    "## Aufgabe: Zeige die 10 nächsten Word Vektoren zum Vektor \"Stadt\"."
   ]
  },
  {
   "cell_type": "code",
   "execution_count": 6,
   "metadata": {},
   "outputs": [
    {
     "name": "stdout",
     "output_type": "stream",
     "text": [
      "Cosine Similarity: Die 10 nächsten Word Vektoren zu 'Stadt'\n"
     ]
    },
    {
     "data": {
      "text/plain": [
       "of           0.944413\n",
       "liegt        0.976674\n",
       "deutschen    0.984771\n",
       "gemeinde     0.963341\n",
       "mai          0.984183\n",
       "januar       0.982574\n",
       "august       0.983972\n",
       "märz         0.982716\n",
       "oktober      0.983746\n",
       "september    0.983002\n",
       "dtype: float64"
      ]
     },
     "execution_count": 6,
     "metadata": {},
     "output_type": "execute_result"
    }
   ],
   "source": [
    "print(\"Cosine Similarity: Die 10 nächsten Word Vektoren zu 'Stadt'\")\n",
    "\n",
    "cosine_sim[1:11]"
   ]
  },
  {
   "cell_type": "code",
   "execution_count": null,
   "metadata": {
    "collapsed": true
   },
   "outputs": [],
   "source": []
  }
 ],
 "metadata": {
  "kernelspec": {
   "display_name": "Python 3",
   "language": "python",
   "name": "python3"
  },
  "language_info": {
   "codemirror_mode": {
    "name": "ipython",
    "version": 3
   },
   "file_extension": ".py",
   "mimetype": "text/x-python",
   "name": "python",
   "nbconvert_exporter": "python",
   "pygments_lexer": "ipython3",
   "version": "3.6.5"
  }
 },
 "nbformat": 4,
 "nbformat_minor": 2
}
