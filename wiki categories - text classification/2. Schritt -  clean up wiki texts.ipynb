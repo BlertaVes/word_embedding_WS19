{
 "cells": [
  {
   "cell_type": "code",
   "execution_count": 6,
   "metadata": {},
   "outputs": [],
   "source": [
    "import pandas as pd\n",
    "import regex\n",
    "\n",
    "\n",
    "def filter_foreign_words(tokens_list, char_list):\n",
    "    \n",
    "    filtered_tokens_list = []\n",
    "    \n",
    "    for i, word in enumerate(tokens_list): \n",
    "        foreign = False\n",
    "        for character in word: \n",
    "            if character not in char_list:\n",
    "                #print(\"foreign\",word,i)\n",
    "                foreign = True\n",
    "\n",
    "        if not foreign:\n",
    "            #print(\"not foreign\", word, i)\n",
    "            filtered_tokens_list.append(word)\n",
    "            \n",
    "    return filtered_tokens_list\n",
    "    "
   ]
  },
  {
   "cell_type": "markdown",
   "metadata": {},
   "source": [
    "## Einlesen der wiki csv\n",
    "\n",
    "Neben dem Einlesen der Datei, müssen noch die column names geändert werden, sodass die column names zu den anderen Tabellen aus dem Seminar passen und Severin die Tabellen leichter zusammenfügen kann. "
   ]
  },
  {
   "cell_type": "code",
   "execution_count": 8,
   "metadata": {
    "scrolled": true
   },
   "outputs": [],
   "source": [
    "wiki_data = pd.read_csv(\"wiki_remastered_tabsep.csv\", sep=\"\\t\")\n",
    "\n",
    "if 'Unnamed: 0' in wiki_data.columns:\n",
    "    del wiki_data[\"Unnamed: 0\"]\n",
    "del wiki_data[\"Titel\"]\n",
    "\n",
    "wiki_data.columns =[\"category\", \"description\", \"text\"]\n",
    "#wiki_data"
   ]
  },
  {
   "cell_type": "code",
   "execution_count": 9,
   "metadata": {},
   "outputs": [
    {
     "data": {
      "text/plain": [
       "'Chaha (auf Chaha und Amharisch: čehā oder čexā) ist eine äthiosemitische Sprache, die in der Gurage-Zone in der Region der südlichen Nationen, Nationalitäten und Völker gesprochen wird.\\r\\nDas Chaha ist unter Phonologen und Morphologen für seine sehr komplexe Morphonologie bekannt.\\r\\n\\r\\nKlassifikation\\r\\nChaha gehört zur Sebat-Bet-Gurage-Sprachfamilie (SBG) und ist laut Ethnologue einer der sieben Dialekte, von denen manche aber auch als eigenständige Sprachen betrachtet werden. Dieser Artikel konzentriert sich auf den Chahadialekt, der besser erforscht ist als die anderen Dialekte der Sebat-Bet-Gurage-Sprachfamilie. Soweit nicht anders gekennzeichnet, sind alle Beispiele Chaha.\\r\\n\\r\\nLaute und Schreibung\\r\\nKonsonanten und Vokale\\r\\nDie Dialekte der Sebat-Bet-Gurage-Sprachfamilie haben ein ziemlich typisches Phonemset für äthiosemitische Sprachen. Es gibt sowohl die gewöhnlichen ejektiven wie auch einfache stimmlose und stimmhafte Konsonanten. Allerdings hat die Sprache mehr palatalisierte und labialisierte Konsonanten als die meisten anderen äthiosemitischen Sprachen. Außer den sieben für diese Sprachen typischen Vokalen haben die Dialekte den halboffenen Vorder- (ɛ) und Hinterzungenvokal (ɔ). Einige Dialekte haben kurze und lange Vokal-Phoneme und manche haben nasalisierte Vokale.\\r\\nDie Tabellen unten zeigen die Laute des Chahadialekts in IPA-Symbolen. Dabei stehen die Symbole der äthiopischen Umschrift in Klammern. Wie viele Phoneme es genau gibt, ist wegen der komplexen Morphonologie der SBG-Sprachen umstritten.\\r\\n\\r\\nIm Folgenden werden die Zeichen der äthiopischen Umschrift statt der IPA-Zeichen verwendet.\\r\\n\\r\\nMorphonologie\\r\\nZusätzlich zu der Komplexität der Verbenmorphologie, die für alle semitischen Sprachen charakteristisch ist, hat SBG noch einen Level von Komplexität wegen der besonderen Beziehung zwischen dem Konsonantenset in einer Verbwurzel und deren Realisation in einer Form dieses Verbs oder einem abgeleiteten Nomen. Zum Beispiel hat das Verb „öffnen“ eine Wurzel die (wie in den meisten äthiosemitischen Sprachen) aus den Konsonanten {kft} besteht. Manche Formen enthalten all diese Konsonanten. Zum Beispiel ist die dritte Person Singular Maskulinum Vergangenheit, also „er öffnete“, käfätä-m. Wenn aber das Passiv verwendet wird, also etwa „er wurde geöffnet“, ändern sich zwei der Stammkonsonanten: käfʷäč-i-m.\\r\\nMindestens drei verschiedene phonologische Prozesse spielen in der SBG-Morphonologie eine Rolle.\\r\\n\\r\\nEntstimmung und Gemination\\r\\nIn den meisten äthiosemitischen Sprachen wird Gemination, also Konsonantenlängung, in der Grammatik von Verben verwendet und um Worte zu unterscheiden. Zum Beispiel wird im Amharischen der zweite Konsonant einer drei-Konsonanten Verbwurzel verdoppelt, um das Perfekt anzuzeigen: {sdb} „beleidigen“, säddäbä „er beleidigte“. In Chaha und einigen anderen SBG-Dialekten wird die Gemination durch Entstimmung ersetzt. Zum Beispiel ist die Verbwurzel für „beleidigen“ in SBG dieselbe wie im Amharischen (mit β statt b), aber im Perfekt wird der zweite Konsonant in den nicht geminierenden Dialekten zu t: sätäβä-m „er beleidigte“.\\r\\nNur stimmhafte Konsonanten können entstimmt werden:\\r\\nb/β → p, d → t, g → k, bʷ → pʷ, ǧ → č, gʸ → ḳʸ, gʷ → kʷ, z → s, ž → š.\\r\\nDie entstimmte/geminierte Form von r ist n. Andere stimmhafte Konsonanten werden nicht entstimmt.\\r\\n\\r\\nLabialisierung\\r\\nEinige morphologische Prozesse führen zur Labialisierung (Rundung) von Konsonanten.\\r\\nZum Beispiel ist das von der dreikonsonantigen Verbwurzel {gkr} „gerade sein“ abgeleitete Adjektiv gʷəkʷər „gerade“. Labiale und velare Konsonanten können labialisiert werden:\\r\\np → pʷ, b → bʷ, β → w, f → fʷ, k → kʷ, ḳ → ḳʷ, g → gʷ, x → xʷ.\\r\\n\\r\\nPalatalisierung, Depalatalisierung\\r\\nDurch einige morphologische Prozesse werden Konsonanten patalisiert. Zum Beispiel in der zweiten Person Feminin Einzahl von Verben im Imperfekt und Jussiv/Imperativ palatalisiert man einen der Wurzel Konsonanten (wenn möglich): {kft} „öffnen“, təkäft „du öffnest“ (maskulin), təkäfč „du öffnest“ (feminin).\\r\\nDentale und velare Konsonanten können palatalisiert werden: t → č, ṭ  → č̣, d → ǧ, s → š, z → ž, k → kʸ, ḳ → ḳʸ, g → ɟ, x → xʸ.\\r\\nr wird zu y patalisiert. In einer morphologischen Umgebung geschieht der umgekehrte Prozess. In der Befehlsform einer Klasse von Verben wird der erste Konsonant der Wurzel wenn möglich entpalatalisiert. Das Verb „zurückgeben“ hat eigentlich die Stammkonsonanten {žpr}, zum Beispiel žäpärä-m „er hat zurückgegeben“, aber das ž wird zu z entpalatalisiert im Imperativ zäpǝr  „Gib das zurück!“ (an einen Mann).\\r\\n\\r\\nAllophone\\r\\nDas Verhältnis zwischen n, r, und l ist komplex. Wenigstens innerhalb des Wortstamms kann man [n] und [r] wie Allophone eines einzelnen Phonems behandeln.\\r\\nDer Konsonant wird als [n] am Wortanfang ausgesprochen, wenn er von r geminiert wurde oder wenn er die vorletzte Silbe des Wortes beendet, sonst ist es ein [r].\\r\\n\\r\\nnämädä-m „er mochte“, tä-rämädä-m „er wurde gemocht“\\r\\nyǝ-βära „er isst“, bäna-m „er aß“ (geminiert)\\r\\nsǝräpätä-m „er verbrachte Zeit“, wä-sämbǝt „Zeit verbringen“ (wegen des folgenden b wird das n zu m)Banksira nennt auch k als Allophon von x und b als Allophon von β\\r\\n\\r\\nSchrift\\r\\nSBG schreibt man im äthiopischen Alphabet, das ursprünglich für die Altäthiopische Sprache entwickelt wurde und heute durch seine Verwendung für das Amharische und das Tigrinya bekannt ist. Obwohl es immer noch relativ wenig Texte in dieser Sprache gibt, sind drei Romane im Chahadialekt erschienen (von Sä Sǝllase und Gäbräyäsus Haylämaryam).\\r\\nUm die palatalisierten Konsonanten darzustellen die es im Altäthiopischen, Amharisch und Tigrinya nicht gibt, wurden abgewandelte Zeichen in die Schrift eingeführt, die zum Beispiel übergestellte Ecken verwenden. Diese wurden zum ersten Mal im von der äthiopischen Bibel-Gesellschaft herausgegebenen Neuen Testament verwendet, dann in der gesamten Bibel und werden inzwischen allgemein verwendet.\\r\\n\\r\\nSiehe auch\\r\\nGurage\\r\\nKistane\\r\\n\\r\\nEinzelnachweise\\r\\n'"
      ]
     },
     "execution_count": 9,
     "metadata": {},
     "output_type": "execute_result"
    }
   ],
   "source": [
    "einzelsprache_old = wiki_data[\"text\"].iloc[1970]\n",
    "einzelsprache_old"
   ]
  },
  {
   "cell_type": "markdown",
   "metadata": {},
   "source": [
    "## Filter non latin writing systems and other foreign words"
   ]
  },
  {
   "cell_type": "code",
   "execution_count": 10,
   "metadata": {},
   "outputs": [],
   "source": [
    "\n",
    "german_char_list = \"a,b,c,d,e,f,g,h,i,j,k,l,m,n,o,p,q,r,s,t,u,v,w,x,y,z,ä,ö,ü,ß,A,B,C,D,E,F,G,H,I,J,K,L,M,N,O,P,Q,R,S,T,U,V,W,X,Y,Z,Ä,Ö,Ü,0,1,2,3,4,5,6,7,8,9\".split(\",\")\n",
    "punctuations = \"„ “ . ! ' ? ( ) - ,\".split(\" \")\n",
    "char_list = german_char_list + punctuations\n",
    "re_pattern = \"[\\p{Latin}0-9„“.!'?()-,]+\"\n",
    "\n",
    "\n",
    "for index, row in wiki_data.iterrows():\n",
    "    #print(index)\n",
    "    \n",
    "    description = row[1]\n",
    "    text = row[2]   \n",
    "    \n",
    "    #get only latin writing system and filter other\n",
    "    text_tokens_list = regex.findall(re_pattern, text )\n",
    "    desc_tokens_list = regex.findall(re_pattern, description )\n",
    "\n",
    "    #heuristic to remove words that are not german\n",
    "    filtered_text_tokens = filter_foreign_words(text_tokens_list, char_list)\n",
    "    filtered_desc_tokens = filter_foreign_words(desc_tokens_list, char_list)\n",
    "         \n",
    "    wiki_data.loc[index, \"text\"] = ' '.join(filtered_text_tokens)\n",
    "    wiki_data.loc[index, \"description\"] = ' '.join(filtered_desc_tokens)\n",
    "    wiki_data.loc[index, \"length\"] = len(filtered_text_tokens)\n",
    "\n",
    "\n",
    "        \n",
    "\n"
   ]
  },
  {
   "cell_type": "code",
   "execution_count": 11,
   "metadata": {},
   "outputs": [
    {
     "data": {
      "text/plain": [
       "'Chaha (auf Chaha und Amharisch oder ist eine äthiosemitische Sprache, die in der Gurage Zone in der Region der südlichen Nationen, Nationalitäten und Völker gesprochen wird. Das Chaha ist unter Phonologen und Morphologen für seine sehr komplexe Morphonologie bekannt. Klassifikation Chaha gehört zur Sebat Bet Gurage Sprachfamilie (SBG) und ist laut Ethnologue einer der sieben Dialekte, von denen manche aber auch als eigenständige Sprachen betrachtet werden. Dieser Artikel konzentriert sich auf den Chahadialekt, der besser erforscht ist als die anderen Dialekte der Sebat Bet Gurage Sprachfamilie. Soweit nicht anders gekennzeichnet, sind alle Beispiele Chaha. Laute und Schreibung Konsonanten und Vokale Die Dialekte der Sebat Bet Gurage Sprachfamilie haben ein ziemlich typisches Phonemset für äthiosemitische Sprachen. Es gibt sowohl die gewöhnlichen ejektiven wie auch einfache stimmlose und stimmhafte Konsonanten. Allerdings hat die Sprache mehr palatalisierte und labialisierte Konsonanten als die meisten anderen äthiosemitischen Sprachen. Außer den sieben für diese Sprachen typischen Vokalen haben die Dialekte den halboffenen Vorder und Hinterzungenvokal Einige Dialekte haben kurze und lange Vokal Phoneme und manche haben nasalisierte Vokale. Die Tabellen unten zeigen die Laute des Chahadialekts in IPA Symbolen. Dabei stehen die Symbole der äthiopischen Umschrift in Klammern. Wie viele Phoneme es genau gibt, ist wegen der komplexen Morphonologie der SBG Sprachen umstritten. Im Folgenden werden die Zeichen der äthiopischen Umschrift statt der IPA Zeichen verwendet. Morphonologie Zusätzlich zu der Komplexität der Verbenmorphologie, die für alle semitischen Sprachen charakteristisch ist, hat SBG noch einen Level von Komplexität wegen der besonderen Beziehung zwischen dem Konsonantenset in einer Verbwurzel und deren Realisation in einer Form dieses Verbs oder einem abgeleiteten Nomen. Zum Beispiel hat das Verb „öffnen“ eine Wurzel die (wie in den meisten äthiosemitischen Sprachen) aus den Konsonanten kft besteht. Manche Formen enthalten all diese Konsonanten. Zum Beispiel ist die dritte Person Singular Maskulinum Vergangenheit, also „er öffnete“, käfätä m. Wenn aber das Passiv verwendet wird, also etwa „er wurde geöffnet“, ändern sich zwei der Stammkonsonanten i m. Mindestens drei verschiedene phonologische Prozesse spielen in der SBG Morphonologie eine Rolle. Entstimmung und Gemination In den meisten äthiosemitischen Sprachen wird Gemination, also Konsonantenlängung, in der Grammatik von Verben verwendet und um Worte zu unterscheiden. Zum Beispiel wird im Amharischen der zweite Konsonant einer drei Konsonanten Verbwurzel verdoppelt, um das Perfekt anzuzeigen sdb „beleidigen“, säddäbä „er beleidigte“. In Chaha und einigen anderen SBG Dialekten wird die Gemination durch Entstimmung ersetzt. Zum Beispiel ist die Verbwurzel für „beleidigen“ in SBG dieselbe wie im Amharischen (mit statt b), aber im Perfekt wird der zweite Konsonant in den nicht geminierenden Dialekten zu t sätä ä m „er beleidigte“. Nur stimmhafte Konsonanten können entstimmt werden b p, d t, g k, z s, Die entstimmte geminierte Form von r ist n. Andere stimmhafte Konsonanten werden nicht entstimmt. Labialisierung Einige morphologische Prozesse führen zur Labialisierung (Rundung) von Konsonanten. Zum Beispiel ist das von der dreikonsonantigen Verbwurzel gkr „gerade sein“ abgeleitete Adjektiv „gerade“. Labiale und velare Konsonanten können labialisiert werden p b w, f k g x Palatalisierung, Depalatalisierung Durch einige morphologische Prozesse werden Konsonanten patalisiert. Zum Beispiel in der zweiten Person Feminin Einzahl von Verben im Imperfekt und Jussiv Imperativ palatalisiert man einen der Wurzel Konsonanten (wenn möglich) kft „öffnen“, „du öffnest“ (maskulin), „du öffnest“ (feminin). Dentale und velare Konsonanten können palatalisiert werden t , d s z k g x r wird zu y patalisiert. In einer morphologischen Umgebung geschieht der umgekehrte Prozess. In der Befehlsform einer Klasse von Verben wird der erste Konsonant der Wurzel wenn möglich entpalatalisiert. Das Verb „zurückgeben“ hat eigentlich die Stammkonsonanten , zum Beispiel m „er hat zurückgegeben“, aber das wird zu z entpalatalisiert im Imperativ „Gib das zurück!“ (an einen Mann). Allophone Das Verhältnis zwischen n, r, und l ist komplex. Wenigstens innerhalb des Wortstamms kann man n und r wie Allophone eines einzelnen Phonems behandeln. Der Konsonant wird als n am Wortanfang ausgesprochen, wenn er von r geminiert wurde oder wenn er die vorletzte Silbe des Wortes beendet, sonst ist es ein r . nämädä m „er mochte“, tä rämädä m „er wurde gemocht“ ära „er isst“, bäna m „er aß“ (geminiert) m „er verbrachte Zeit“, wä „Zeit verbringen“ (wegen des folgenden b wird das n zu m)Banksira nennt auch k als Allophon von x und b als Allophon von Schrift SBG schreibt man im äthiopischen Alphabet, das ursprünglich für die Altäthiopische Sprache entwickelt wurde und heute durch seine Verwendung für das Amharische und das Tigrinya bekannt ist. Obwohl es immer noch relativ wenig Texte in dieser Sprache gibt, sind drei Romane im Chahadialekt erschienen (von Sä und Gäbräyäsus Haylämaryam). Um die palatalisierten Konsonanten darzustellen die es im Altäthiopischen, Amharisch und Tigrinya nicht gibt, wurden abgewandelte Zeichen in die Schrift eingeführt, die zum Beispiel übergestellte Ecken verwenden. Diese wurden zum ersten Mal im von der äthiopischen Bibel Gesellschaft herausgegebenen Neuen Testament verwendet, dann in der gesamten Bibel und werden inzwischen allgemein verwendet. Siehe auch Gurage Kistane Einzelnachweise'"
      ]
     },
     "execution_count": 11,
     "metadata": {},
     "output_type": "execute_result"
    }
   ],
   "source": [
    "einzelsprache_new = wiki_data[\"text\"].iloc[1970]\n",
    "einzelsprache_new"
   ]
  },
  {
   "cell_type": "code",
   "execution_count": 9,
   "metadata": {
    "collapsed": true
   },
   "outputs": [],
   "source": [
    "wiki_data.to_csv(\"veseli_wiki_data.csv\", index=False)"
   ]
  },
  {
   "cell_type": "code",
   "execution_count": null,
   "metadata": {},
   "outputs": [],
   "source": []
  }
 ],
 "metadata": {
  "kernelspec": {
   "display_name": "Python 3",
   "language": "python",
   "name": "python3"
  },
  "language_info": {
   "codemirror_mode": {
    "name": "ipython",
    "version": 3
   },
   "file_extension": ".py",
   "mimetype": "text/x-python",
   "name": "python",
   "nbconvert_exporter": "python",
   "pygments_lexer": "ipython3",
   "version": "3.6.5"
  }
 },
 "nbformat": 4,
 "nbformat_minor": 2
}
